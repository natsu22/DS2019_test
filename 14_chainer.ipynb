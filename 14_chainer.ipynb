import chainer
chainer.print_runtime_info()


